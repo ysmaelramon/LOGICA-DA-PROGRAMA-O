{
 "cells": [
  {
   "cell_type": "markdown",
   "id": "935eb876",
   "metadata": {},
   "source": []
  },
  {
   "cell_type": "code",
   "execution_count": 1,
   "id": "927dd3f5",
   "metadata": {},
   "outputs": [
    {
     "name": "stdout",
     "output_type": "stream",
     "text": [
      "[{'nome': 'Leticia', 'idade': 15, 'cidade': 'Fortaleza'}, {'nome': 'Joana', 'idade': 17, 'cidade': 'Fortaleza'}, {'nome': 'Carlos', 'idade': 30, 'cidade': 'Pindoretama'}]\n"
     ]
    }
   ],
   "source": [
    "import pandas as pandas\n",
    "\n",
    "\n",
    "#1. Você é solicitado para criar um DataFrame do Pandas a partir de uma lista de dicionários.\n",
    "dadosPessoais = [\n",
    "    {'nome': 'Leticia', 'idade': 15, 'cidade': 'Fortaleza'},\n",
    "    {'nome': 'Joana', 'idade': 17, 'cidade': 'Fortaleza'},\n",
    "    {'nome': 'Carlos', 'idade': 30, 'cidade': 'Pindoretama'},]\n",
    "\n",
    "print(dadosPessoais)"
   ]
  },
  {
   "cell_type": "code",
   "execution_count": 2,
   "id": "d7de656c",
   "metadata": {},
   "outputs": [
    {
     "name": "stdout",
     "output_type": "stream",
     "text": [
      "      nome  idade       cidade\n",
      "0  Leticia     15    Fortaleza\n",
      "1    Joana     17    Fortaleza\n",
      "2   Carlos     30  Pindoretama\n"
     ]
    }
   ],
   "source": [
    "# Comno transformar os dados fornecidos em um DataFrame do Pandas?\n",
    "\n",
    "# 2. Usando a função pd.DataFrame() e passando a lista de dicionários como argumento.\n",
    "df = pandas.DataFrame(dadosPessoais)\n",
    "print(df)\n"
   ]
  },
  {
   "cell_type": "code",
   "execution_count": 3,
   "id": "47db8815",
   "metadata": {},
   "outputs": [
    {
     "name": "stdout",
     "output_type": "stream",
     "text": [
      "   nome  idade      cidade\n",
      "Leticia     15   Fortaleza\n",
      "  Joana     17   Fortaleza\n",
      " Carlos     30 Pindoretama\n"
     ]
    }
   ],
   "source": [
    "#3. Remoçao dos index padrão do DataFrame\n",
    "# print(df.to_string(index=False))\n",
    "\n",
    "print(df.to_string(index=False))"
   ]
  },
  {
   "cell_type": "code",
   "execution_count": 4,
   "id": "e4c9b074",
   "metadata": {},
   "outputs": [
    {
     "name": "stdout",
     "output_type": "stream",
     "text": [
      "0    Leticia\n",
      "1      Joana\n",
      "2     Carlos\n",
      "Name: nome, dtype: object\n"
     ]
    }
   ],
   "source": [
    "#4. Acessar a coluna 'nome' do DataFrame e exibir os nomes das pessoas.\n",
    "print(df['nome']) "
   ]
  },
  {
   "cell_type": "code",
   "execution_count": 5,
   "id": "a23244d5",
   "metadata": {},
   "outputs": [
    {
     "name": "stdout",
     "output_type": "stream",
     "text": [
      "0      Fortaleza\n",
      "1      Fortaleza\n",
      "2    Pindoretama\n",
      "Name: cidade, dtype: object\n"
     ]
    }
   ],
   "source": [
    "# 5. Filtrar o DataFrame para exibir apenas as cidades\n",
    "\n",
    "print(df['cidade'])"
   ]
  },
  {
   "cell_type": "code",
   "execution_count": 6,
   "id": "f6ef3b53",
   "metadata": {},
   "outputs": [
    {
     "name": "stdout",
     "output_type": "stream",
     "text": [
      "      nome  idade       cidade                email\n",
      "0  Leticia     15    Fortaleza  leticia00@gmail.com\n",
      "1    Joana     17    Fortaleza  joana6421@gmail.com\n",
      "2   Carlos     30  Pindoretama  carlos014@gmail.com\n"
     ]
    }
   ],
   "source": [
    "# 6. Adicionar uma nova coluna 'email' ao DataFrame com endereços de email fictícios para cada pessoa.\n",
    "df['email'] = [\n",
    "    'leticia00@gmail.com',\n",
    "    'joana6421@gmail.com',\n",
    "    'carlos014@gmail.com'\n",
    "]\n",
    "\n",
    "print(df)\n"
   ]
  },
  {
   "cell_type": "code",
   "execution_count": 7,
   "id": "cf6c63c0",
   "metadata": {},
   "outputs": [
    {
     "name": "stdout",
     "output_type": "stream",
     "text": [
      "nome                    Joana\n",
      "idade                      17\n",
      "cidade              Fortaleza\n",
      "email     joana6421@gmail.com\n",
      "Name: 1, dtype: object\n"
     ]
    }
   ],
   "source": [
    "# 7. Acessar a linha linha  a partir de indice 1 (segunda linha) do DataFrame e exibir os dados dessa pessoa.\n",
    "# Usa-se o método .loc[] ou .iloc[] para acessar a linha pelo índice.\n",
    "print(df.loc[1])  # Usando .loc[] para acessar a linha com índice"
   ]
  },
  {
   "cell_type": "code",
   "execution_count": 52,
   "id": "524ae3d5",
   "metadata": {},
   "outputs": [
    {
     "name": "stdout",
     "output_type": "stream",
     "text": [
      "nome                    Joana\n",
      "idade                      17\n",
      "cidade              Fortaleza\n",
      "email     joana6421@gmail.com\n",
      "Name: 1, dtype: object\n"
     ]
    }
   ],
   "source": [
    "# Emprego do .iloc[]\n",
    "print(df.iloc[1])  # Usando .iloc[] para acessar a linha com índice"
   ]
  },
  {
   "cell_type": "code",
   "execution_count": null,
   "id": "0201a414",
   "metadata": {},
   "outputs": [
    {
     "name": "stdout",
     "output_type": "stream",
     "text": [
      "20.666666666666668 1\n"
     ]
    }
   ],
   "source": [
    "# Qual é diferença entre .loc[] e .iloc[]?\n",
    "# .loc[] é usado para acessar linhas e colunas por rótulos (nomes), enquanto .iloc[] é usado para acessar por posições inteiras (índices).\n"
   ]
  },
  {
   "cell_type": "code",
   "execution_count": 43,
   "id": "0b79a2b5",
   "metadata": {},
   "outputs": [
    {
     "name": "stdout",
     "output_type": "stream",
     "text": [
      "20.666666666666668 1\n"
     ]
    }
   ],
   "source": [
    "# 8. Acessar a coluna 'idade' e calcular a média das idades das pessoas no DataFrame.\n",
    "print(df['idade'].mean(), 1)  # Usando o método .mean() para calcular a média"
   ]
  },
  {
   "cell_type": "code",
   "execution_count": null,
   "id": "b43cff8f",
   "metadata": {},
   "outputs": [
    {
     "name": "stdout",
     "output_type": "stream",
     "text": [
      "20\n"
     ]
    }
   ],
   "source": [
    "# OBS. Mostar numero sem casas decimais\n",
    "print(df['idade'].mean().astype(int))  # Convertendo para int para remover casas decimais\n",
    "#  ou print(int(df['idade'].mean()))  # Convertendo para int para remover casas decimais"
   ]
  },
  {
   "cell_type": "code",
   "execution_count": 48,
   "id": "9f5b2f2d",
   "metadata": {},
   "outputs": [
    {
     "name": "stdout",
     "output_type": "stream",
     "text": [
      "20\n"
     ]
    }
   ],
   "source": [
    "#  ou print(int(df['idade'].mean()))  # Convertendo para int para remover casas decimais\n",
    "print(int(df['idade'].mean()))  # Convertendo para int para remover casas decimais"
   ]
  },
  {
   "cell_type": "code",
   "execution_count": 49,
   "id": "bdab9632",
   "metadata": {},
   "outputs": [
    {
     "name": "stdout",
     "output_type": "stream",
     "text": [
      "     nome  idade       cidade                email\n",
      "1   Joana     17    Fortaleza  joana6421@gmail.com\n",
      "2  Carlos     30  Pindoretama  carlos014@gmail.com\n"
     ]
    }
   ],
   "source": [
    "# 10. Filtrar o DataFrame para exibir apenas as pessoas com idade maior que 16 anos.\n",
    "filtro_idade = df['idade'] > 16\n",
    "print(df[filtro_idade])"
   ]
  },
  {
   "cell_type": "code",
   "execution_count": null,
   "id": "649106bb",
   "metadata": {},
   "outputs": [],
   "source": [
    "# 11. Substituir o valor da cidade 'Pindoretama' por 'Maracanaú' no DataFrame.\n",
    "df.loc[df['cidade'] == 'Pindoretama', 'cidade'] = 'Maracanaú'\n",
    "print(df)"
   ]
  },
  {
   "cell_type": "code",
   "execution_count": 55,
   "id": "8f11f0e9",
   "metadata": {},
   "outputs": [
    {
     "name": "stdout",
     "output_type": "stream",
     "text": [
      "      nome  idade       cidade                email\n",
      "0  Leticia     15    Fortaleza  leticia00@gmail.com\n",
      "1    Joana     17    Fortaleza  joana6421@gmail.com\n",
      "2   Carlos     30  Pindoretama  carlos014@gmail.com\n"
     ]
    }
   ],
   "source": [
    "# EXCLUSÃO DE LINHAS, mas antes é bom copiar o DataFrame\n",
    "df_copia = df.copy()\n",
    "\n",
    "df = df_copia\n",
    "print(df_copia)\n",
    "# df = df.drop(2)  # Remove a linha com índice 2\n",
    "# print(df)"
   ]
  },
  {
   "cell_type": "code",
   "execution_count": 59,
   "id": "6165c24d",
   "metadata": {},
   "outputs": [
    {
     "name": "stdout",
     "output_type": "stream",
     "text": [
      "    nome  idade     cidade                email\n",
      "1  Joana     17  Fortaleza  joana6421@gmail.com\n"
     ]
    }
   ],
   "source": [
    "# AGORA SIM, PODE APAGAR A LINHA 2\n",
    "df = df.drop(0)  # Remove a linha com índice 2\n",
    "print(df)"
   ]
  },
  {
   "cell_type": "code",
   "execution_count": 60,
   "id": "9d7c795a",
   "metadata": {},
   "outputs": [
    {
     "name": "stdout",
     "output_type": "stream",
     "text": [
      "    nome  idade     cidade                email\n",
      "1  Joana     17  Fortaleza  joana6421@gmail.com\n"
     ]
    }
   ],
   "source": [
    "print(df)"
   ]
  },
  {
   "cell_type": "code",
   "execution_count": 61,
   "id": "1fed87a2",
   "metadata": {},
   "outputs": [
    {
     "name": "stdout",
     "output_type": "stream",
     "text": [
      "      nome  idade       cidade                email\n",
      "0  Leticia     15    Fortaleza  leticia00@gmail.com\n",
      "1    Joana     17    Fortaleza  joana6421@gmail.com\n",
      "2   Carlos     30  Pindoretama  carlos014@gmail.com\n"
     ]
    }
   ],
   "source": [
    "# AGORA EXIBIR df_copia\n",
    "print(df_copia)"
   ]
  },
  {
   "cell_type": "code",
   "execution_count": 63,
   "id": "17a18541",
   "metadata": {},
   "outputs": [
    {
     "name": "stdout",
     "output_type": "stream",
     "text": [
      "Empty DataFrame\n",
      "Columns: [nome, idade, cidade, email]\n",
      "Index: []\n"
     ]
    }
   ],
   "source": [
    "# APAGAR TODO O CONTEÚDO DO DATAFRAME\n",
    "df = df[0:0]\n",
    "print(df)"
   ]
  },
  {
   "cell_type": "code",
   "execution_count": 64,
   "id": "1d993855",
   "metadata": {},
   "outputs": [
    {
     "name": "stdout",
     "output_type": "stream",
     "text": [
      "Empty DataFrame\n",
      "Columns: [nome, idade, cidade, email]\n",
      "Index: []\n"
     ]
    }
   ],
   "source": [
    "# Fazer drop em df\n",
    "df = df.drop(df.index)\n",
    "\n",
    "print(df)"
   ]
  },
  {
   "cell_type": "code",
   "execution_count": 66,
   "id": "4f9629a4",
   "metadata": {},
   "outputs": [
    {
     "name": "stdout",
     "output_type": "stream",
     "text": [
      "---------------------------------------- FIM ----------------------------------------\n"
     ]
    }
   ],
   "source": [
    "print('--'*20, 'FIM', '--'*20)"
   ]
  },
  {
   "cell_type": "code",
   "execution_count": 1,
   "id": "69f0c275",
   "metadata": {},
   "outputs": [
    {
     "name": "stdout",
     "output_type": "stream",
     "text": [
      "\n",
      "\n",
      "Análise de Vendas - Online Retail Dataset\n",
      "\n"
     ]
    }
   ],
   "source": [
    "print('\\n\\nAnálise de Vendas - Online Retail Dataset\\n')"
   ]
  }
 ],
 "metadata": {
  "kernelspec": {
   "display_name": "Python 3",
   "language": "python",
   "name": "python3"
  },
  "language_info": {
   "codemirror_mode": {
    "name": "ipython",
    "version": 3
   },
   "file_extension": ".py",
   "mimetype": "text/x-python",
   "name": "python",
   "nbconvert_exporter": "python",
   "pygments_lexer": "ipython3",
   "version": "3.13.7"
  }
 },
 "nbformat": 4,
 "nbformat_minor": 5
}
